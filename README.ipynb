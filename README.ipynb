{
 "cells": [
  {
   "cell_type": "markdown",
   "metadata": {},
   "source": [
    "# Part IB Data Science Coursework\n",
    "\n",
    "This is the introductory notebook for the IB Data Science coursework at the Department of Engineering at University of Cambridge. \n",
    "\n",
    "The course is for IB students, and uses some of the linear algebra and Fourier analysis covered in Paper 7 and Paper 6, respectively. In particular, the relevant material is in Handout 6 of Linear Algebra (\"Least squares\"), and in Handout 5 of Signal and Data Analysis (\"Discrete Fourier Transform\"). This will be covered in lectures by the end of week 6 of Lent term."
   ]
  },
  {
   "cell_type": "markdown",
   "metadata": {},
   "source": [
    "# Structure\n",
    "\n",
    "This course involves two self-study, interactive Jupyter notebook 'activities', with exercises at the end of each activity. The activity notebooks cover:\n",
    "\n",
    "1. Introduction to time series, and using linear regression to model the trend in the time series\n",
    "1. Using Fourier analysis and linear regression to model the seasonal variation (periodic components) in a time series \n",
    "\n",
    "There is a third _optional_ notebook on model selection, which you are strongly encouraged to go through, but is not compulsory.\n",
    "\n",
    "The notebooks are designed to be completed in order. To complete an activity:\n",
    "\n",
    "1. Read through a notebook, and change parts of the programs if you want to experiment with what \n",
    "   happens - this will help your understanding. \n",
    "1. Complete the exercises for the notebook before moving onto the next activity.\n",
    "\n",
    "This course is structured similarly to the IA Michaelmas computing course, where you learned the basics of Python programming. As you move through the activities you might need to revise some of the IA notebooks. As in IA, we will be using Python 3. "
   ]
  },
  {
   "cell_type": "markdown",
   "metadata": {},
   "source": [
    "# Completing exercises\n",
    "\n",
    "Exercises for each notebook are in the [Exercises](Exercises/) directory.\n",
    "\n",
    "- Use Markdown cells, and where appropriate add equations using LaTeX, to describe what your program is doing.\n",
    "- For longer exercises, you may want to break your program into multiple cells, with descriptions in \n",
    "  Markdown before cells with code.\n",
    "- Most exercises include some automated testing to provide feedback on the correctness of \n",
    "  your implementations. You are not expected to understand the test syntax to start.   \n",
    "  \n",
    "You are required to present your exercise solutions at a marking session. Check the lab rota for your timetabled marking slot."
   ]
  },
  {
   "cell_type": "markdown",
   "metadata": {},
   "source": [
    "## Running notebooks\n",
    "\n",
    "\n",
    "### Running locally\n",
    "\n",
    "Jupyter can be run locally. As in IA, the [Anaconda](https://www.anaconda.com/download) distribution is recommended. Be sure to download the Python 3 version. Anaconda is also installed in the DPO.\n",
    "\n",
    "\n",
    "### Azure notebook service\n",
    "\n",
    "You can also use the Jupyter service hosted at https://notebooks.azure.com/ . Log in using your CRSid."
   ]
  },
  {
   "cell_type": "markdown",
   "metadata": {},
   "source": [
    "# Getting help\n",
    "\n",
    "1. There will be a discussion forum on the Moodle site. Please help out by answering questions on the forum. Helping each other is encouraged - if you receive help make sure that you do understand what you have done.\n",
    "   \n",
    "2. Help Desk in the DPO at these times."
   ]
  },
  {
   "cell_type": "markdown",
   "metadata": {},
   "source": [
    "# Acknowledgements\n",
    "\n",
    "Sumeetpal Singh, Talay Cheema, Garth Wells, Tim Love, Slawomir Tadeja, Carl Rasmussen, more to be added."
   ]
  }
 ],
 "metadata": {
  "kernelspec": {
   "display_name": "Python 3",
   "language": "python",
   "name": "python3"
  },
  "language_info": {
   "codemirror_mode": {
    "name": "ipython",
    "version": 3
   },
   "file_extension": ".py",
   "mimetype": "text/x-python",
   "name": "python",
   "nbconvert_exporter": "python",
   "pygments_lexer": "ipython3",
   "version": "3.6.8"
  }
 },
 "nbformat": 4,
 "nbformat_minor": 1
}
